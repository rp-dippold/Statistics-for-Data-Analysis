{
 "cells": [
  {
   "cell_type": "markdown",
   "metadata": {},
   "source": [
    "## Analyze A/B Test Results\n",
    "\n",
    "This project will assure you have mastered the subjects covered in the statistics lessons.  The hope is to have this project be as comprehensive of these topics as possible.  Good luck!\n",
    "\n",
    "Corresponding with this notebook is a slide deck where you will need to update all the portions in red.  Completing the notebook will provide all the results needed for the slides.  **Correctly completing the slides is a required part of the project.**\n",
    "\n",
    "## Table of Contents\n",
    "- [Introduction](#intro)\n",
    "- [Part I - Descriptive Statistics](#descriptive)\n",
    "- [Part II - Probability](#probability)\n",
    "- [Part III - Experimentation](#experimentation)\n",
    "- [Part IV - Algorithms](#algorithms)\n",
    "\n",
    "\n",
    "<a id='intro'></a>\n",
    "### Introduction\n",
    "\n",
    "A/B tests are very commonly performed by data analysts and data scientists.  For this project, you will be working to understand the results of an A/B test run by an e-commerce website.  Your goal is to work through this notebook to help the company understand if they should implement the new page, keep the old page, or perhaps run the experiment longer to make their decision.\n",
    "\n",
    "**As you work through this notebook, follow along in the classroom and answer the corresponding quiz questions associated with each question.** The labels for each classroom concept are provided for each question.  This will assure you are on the right track as you work through the project, and you can feel more confident in your final submission meeting the criteria.  As a final check, assure you meet all the criteria on the [RUBRIC](https://review.udacity.com/#!/projects/37e27304-ad47-4eb0-a1ab-8c12f60e43d0/rubric).\n",
    "\n",
    "<a id='descriptive'></a>\n",
    "#### Part I - Descriptive Statistics\n",
    "\n",
    "To get started, let's import our libraries."
   ]
  },
  {
   "cell_type": "code",
   "execution_count": 1,
   "metadata": {},
   "outputs": [],
   "source": [
    "import pandas as pd\n",
    "import numpy as np\n",
    "import random\n",
    "import matplotlib.pyplot as plt\n",
    "%matplotlib inline\n",
    "#We are setting the seed to assure you get the same answers on quizzes as we set up\n",
    "random.seed(0)\n",
    "np.random.seed(0)"
   ]
  },
  {
   "cell_type": "markdown",
   "metadata": {},
   "source": [
    "For each of the parts of question `1` notice links to [pandas documentation](https://pandas.pydata.org/) is provided to assist with answering the questions.  Though there are other ways you could solve the questions, the documentation is provided to assist you with one fast way to find the answer to each question.\n",
    "\n",
    "\n",
    "`1.a)` Now, read in the `ab_data.csv` data. Store it in `df`. Read in the dataset and take a look at the top few rows here. **This question is completed for you**:"
   ]
  },
  {
   "cell_type": "code",
   "execution_count": 2,
   "metadata": {},
   "outputs": [
    {
     "data": {
      "text/html": [
       "<div>\n",
       "<style scoped>\n",
       "    .dataframe tbody tr th:only-of-type {\n",
       "        vertical-align: middle;\n",
       "    }\n",
       "\n",
       "    .dataframe tbody tr th {\n",
       "        vertical-align: top;\n",
       "    }\n",
       "\n",
       "    .dataframe thead th {\n",
       "        text-align: right;\n",
       "    }\n",
       "</style>\n",
       "<table border=\"1\" class=\"dataframe\">\n",
       "  <thead>\n",
       "    <tr style=\"text-align: right;\">\n",
       "      <th></th>\n",
       "      <th>country</th>\n",
       "      <th>group</th>\n",
       "      <th>converted</th>\n",
       "    </tr>\n",
       "  </thead>\n",
       "  <tbody>\n",
       "    <tr>\n",
       "      <th>0</th>\n",
       "      <td>UK</td>\n",
       "      <td>control</td>\n",
       "      <td>0</td>\n",
       "    </tr>\n",
       "    <tr>\n",
       "      <th>1</th>\n",
       "      <td>US</td>\n",
       "      <td>treatment</td>\n",
       "      <td>1</td>\n",
       "    </tr>\n",
       "    <tr>\n",
       "      <th>2</th>\n",
       "      <td>UK</td>\n",
       "      <td>treatment</td>\n",
       "      <td>0</td>\n",
       "    </tr>\n",
       "    <tr>\n",
       "      <th>3</th>\n",
       "      <td>UK</td>\n",
       "      <td>control</td>\n",
       "      <td>0</td>\n",
       "    </tr>\n",
       "    <tr>\n",
       "      <th>4</th>\n",
       "      <td>UK</td>\n",
       "      <td>treatment</td>\n",
       "      <td>0</td>\n",
       "    </tr>\n",
       "  </tbody>\n",
       "</table>\n",
       "</div>"
      ],
      "text/plain": [
       "  country      group  converted\n",
       "0      UK    control          0\n",
       "1      US  treatment          1\n",
       "2      UK  treatment          0\n",
       "3      UK    control          0\n",
       "4      UK  treatment          0"
      ]
     },
     "execution_count": 2,
     "metadata": {},
     "output_type": "execute_result"
    }
   ],
   "source": [
    "df = pd.read_csv('ab_data.csv')\n",
    "df.head()"
   ]
  },
  {
   "cell_type": "markdown",
   "metadata": {},
   "source": [
    "`b)` Use the below cell to find the number of rows in the dataset. [Helpful  Pandas Link](https://pandas.pydata.org/docs/reference/api/pandas.DataFrame.shape.html#pandas.DataFrame.shape)"
   ]
  },
  {
   "cell_type": "code",
   "execution_count": 3,
   "metadata": {},
   "outputs": [
    {
     "data": {
      "text/plain": [
       "69889"
      ]
     },
     "execution_count": 3,
     "metadata": {},
     "output_type": "execute_result"
    }
   ],
   "source": [
    "len(df)"
   ]
  },
  {
   "cell_type": "markdown",
   "metadata": {
    "collapsed": true
   },
   "source": [
    "`c)` The proportion of users converted.  [Helpful  Pandas Link](https://pandas.pydata.org/docs/reference/api/pandas.DataFrame.mean.html)"
   ]
  },
  {
   "cell_type": "code",
   "execution_count": 4,
   "metadata": {},
   "outputs": [
    {
     "data": {
      "text/plain": [
       "13.047832992316389"
      ]
     },
     "execution_count": 4,
     "metadata": {},
     "output_type": "execute_result"
    }
   ],
   "source": [
    "df.converted.mean()*100"
   ]
  },
  {
   "cell_type": "markdown",
   "metadata": {},
   "source": [
    "`d)` Do any of the rows have missing values? [Helpful Pandas Link One](https://pandas.pydata.org/docs/reference/api/pandas.DataFrame.isnull.html) and [Helpful Pandas Link Two](https://pandas.pydata.org/docs/reference/api/pandas.DataFrame.sum.html)"
   ]
  },
  {
   "cell_type": "code",
   "execution_count": 5,
   "metadata": {},
   "outputs": [
    {
     "data": {
      "text/plain": [
       "country      0\n",
       "group        0\n",
       "converted    0\n",
       "dtype: int64"
      ]
     },
     "execution_count": 5,
     "metadata": {},
     "output_type": "execute_result"
    }
   ],
   "source": [
    "df.isna().sum()"
   ]
  },
  {
   "cell_type": "markdown",
   "metadata": {},
   "source": [
    "No row has missing values."
   ]
  },
  {
   "cell_type": "markdown",
   "metadata": {},
   "source": [
    "`e)` How many customers are from each country? Build a bar chart to show the count of visits from each country."
   ]
  },
  {
   "cell_type": "code",
   "execution_count": 6,
   "metadata": {},
   "outputs": [
    {
     "data": {
      "text/plain": [
       "US    48850\n",
       "UK    17551\n",
       "CA     3488\n",
       "Name: country, dtype: int64"
      ]
     },
     "execution_count": 6,
     "metadata": {},
     "output_type": "execute_result"
    }
   ],
   "source": [
    "# number of visitors from each country - pull the necessary code from the next cell to provide just the counts\n",
    "df['country'].value_counts()"
   ]
  },
  {
   "cell_type": "code",
   "execution_count": 7,
   "metadata": {},
   "outputs": [
    {
     "data": {
      "image/png": "[encoded data removed]",
      "text/plain": [
       "<Figure size 640x480 with 1 Axes>"
      ]
     },
     "metadata": {},
     "output_type": "display_data"
    }
   ],
   "source": [
    "# bar chart of results - this part is done for you\n",
    "df['country'].value_counts().plot(kind='bar');\n",
    "plt.title('Number of Visits From Each Country');\n",
    "plt.ylabel('Count of Visits');\n",
    "plt.show();"
   ]
  },
  {
   "cell_type": "markdown",
   "metadata": {},
   "source": [
    "`f)` Recognize that all of your columns are of a **categorical data type** with the exception of one.  Which column is not **categorical**? [Helpful Pandas Link](https://pandas.pydata.org/docs/reference/api/pandas.DataFrame.info.html)"
   ]
  },
  {
   "cell_type": "code",
   "execution_count": 8,
   "metadata": {},
   "outputs": [
    {
     "name": "stdout",
     "output_type": "stream",
     "text": [
      "<class 'pandas.core.frame.DataFrame'>\n",
      "RangeIndex: 69889 entries, 0 to 69888\n",
      "Data columns (total 3 columns):\n",
      " #   Column     Non-Null Count  Dtype \n",
      "---  ------     --------------  ----- \n",
      " 0   country    69889 non-null  object\n",
      " 1   group      69889 non-null  object\n",
      " 2   converted  69889 non-null  int64 \n",
      "dtypes: int64(1), object(2)\n",
      "memory usage: 1.6+ MB\n"
     ]
    }
   ],
   "source": [
    "df.info()"
   ]
  },
  {
   "cell_type": "markdown",
   "metadata": {},
   "source": [
    "Column \"converted\" is of type \"int64\" which is not categorical."
   ]
  },
  {
   "cell_type": "markdown",
   "metadata": {},
   "source": [
    "`g)` What are the possible values of the `converted` column?  Does it make sense that these values are the only possible values? Why or why not? \n",
    "\n",
    "**Here you can use one of the functions you used in an earlier question**."
   ]
  },
  {
   "cell_type": "code",
   "execution_count": 9,
   "metadata": {},
   "outputs": [
    {
     "data": {
      "text/plain": [
       "array([0, 1])"
      ]
     },
     "execution_count": 9,
     "metadata": {},
     "output_type": "execute_result"
    }
   ],
   "source": [
    "df.converted.unique()"
   ]
  },
  {
   "cell_type": "markdown",
   "metadata": {},
   "source": [
    "**Answer**: Possible values of `converted`column are 0 and 1."
   ]
  },
  {
   "cell_type": "markdown",
   "metadata": {},
   "source": [
    "<a id='probability'></a>\n",
    "#### Part II - Probability\n",
    "\n",
    "`1.` Now that you have had a chance to learn more about the dataset, let's look more at how different factors are related to `converting`.\n",
    "\n",
    "`a)` What is the probability of an individual converting regardless of the page they receive or the country they are from? Simply, what is the chance of conversion in the dataset?"
   ]
  },
  {
   "cell_type": "code",
   "execution_count": 10,
   "metadata": {},
   "outputs": [
    {
     "data": {
      "text/plain": [
       "0.13047832992316388"
      ]
     },
     "execution_count": 10,
     "metadata": {},
     "output_type": "execute_result"
    }
   ],
   "source": [
    "df.converted.mean()"
   ]
  },
  {
   "cell_type": "markdown",
   "metadata": {},
   "source": [
    "`b)` Given that an individual was in the `control` group, what is the probability they converted? **This question is completed for you**"
   ]
  },
  {
   "cell_type": "code",
   "execution_count": 11,
   "metadata": {},
   "outputs": [
    {
     "data": {
      "text/plain": [
       "0.1052540515600669"
      ]
     },
     "execution_count": 11,
     "metadata": {},
     "output_type": "execute_result"
    }
   ],
   "source": [
    "df.query('group == \"control\"')['converted'].mean()"
   ]
  },
  {
   "cell_type": "markdown",
   "metadata": {},
   "source": [
    "`c)` Given that an individual was in the `treatment` group, what is the probability they converted?"
   ]
  },
  {
   "cell_type": "code",
   "execution_count": 12,
   "metadata": {},
   "outputs": [
    {
     "data": {
      "text/plain": [
       "0.15532078043793132"
      ]
     },
     "execution_count": 12,
     "metadata": {},
     "output_type": "execute_result"
    }
   ],
   "source": [
    "df.query('group == \"treatment\"')['converted'].mean()"
   ]
  },
  {
   "cell_type": "markdown",
   "metadata": {},
   "source": [
    "`d)` Do you see evidence that the treatment is related to higher `converted` rates?"
   ]
  },
  {
   "cell_type": "markdown",
   "metadata": {},
   "source": [
    "**Answer**: Yes, it seems that in the treatment group about 5% more converted than in the control group."
   ]
  },
  {
   "cell_type": "markdown",
   "metadata": {},
   "source": [
    "`e)` What is the probability that an individual was in the `treatment`?"
   ]
  },
  {
   "cell_type": "code",
   "execution_count": 13,
   "metadata": {},
   "outputs": [
    {
     "data": {
      "text/plain": [
       "0.5038131894861853"
      ]
     },
     "execution_count": 13,
     "metadata": {},
     "output_type": "execute_result"
    }
   ],
   "source": [
    "len(df.query('group == \"treatment\"')) / len(df)"
   ]
  },
  {
   "cell_type": "markdown",
   "metadata": {},
   "source": [
    "`f)` What is the probability that an individual was from Canada `CA`?"
   ]
  },
  {
   "cell_type": "code",
   "execution_count": 14,
   "metadata": {},
   "outputs": [
    {
     "data": {
      "text/plain": [
       "0.04990771079855199"
      ]
     },
     "execution_count": 14,
     "metadata": {},
     "output_type": "execute_result"
    }
   ],
   "source": [
    "len(df.query('country == \"CA\"')) / len(df)"
   ]
  },
  {
   "cell_type": "markdown",
   "metadata": {},
   "source": [
    "`g)` Given that an individual was in the `US`, what was the probability that they `converted`? **This question is completed for you**\n",
    "\n",
    "$P(\\text{converted} == 1|\\text{country} ==\\text{\"US\"})$\n",
    "\n"
   ]
  },
  {
   "cell_type": "code",
   "execution_count": 15,
   "metadata": {},
   "outputs": [
    {
     "data": {
      "text/plain": [
       "0.13277379733879222"
      ]
     },
     "execution_count": 15,
     "metadata": {},
     "output_type": "execute_result"
    }
   ],
   "source": [
    "df.query('country == \"US\"')['converted'].mean()"
   ]
  },
  {
   "cell_type": "markdown",
   "metadata": {},
   "source": [
    "`h)` Given that an individual was in the `UK`, what was the probability that they `converted`? \n",
    "\n",
    "$P(\\text{converted} == 1|\\text{country} ==\\text{\"UK\"})$"
   ]
  },
  {
   "cell_type": "code",
   "execution_count": 16,
   "metadata": {},
   "outputs": [
    {
     "data": {
      "text/plain": [
       "0.12512107572218106"
      ]
     },
     "execution_count": 16,
     "metadata": {},
     "output_type": "execute_result"
    }
   ],
   "source": [
    "df.query('country == \"UK\"')['converted'].mean()"
   ]
  },
  {
   "cell_type": "markdown",
   "metadata": {},
   "source": [
    "`i)` Do you see evidence that the `converted` rate might differ from one country to the next?"
   ]
  },
  {
   "cell_type": "markdown",
   "metadata": {},
   "source": [
    "**Answer**: There seems to be no big difference between countries regarding the probability that an individual converted."
   ]
  },
  {
   "cell_type": "markdown",
   "metadata": {},
   "source": [
    "`j)` Consider the table below, fill in the conversion rates below to look at how conversion by country and treatment group vary.  The `US` column is done for you, and two methods for calculating the probabilities are shown - **COMPLETE THE REST OF THE TABLE**.  Does it appear that there could be an interaction between how country and treatment impact conversion?\n",
    "\n",
    "These two values that are filled in can be written as:\n",
    "\n",
    "$P(\\text{converted} == 1|(\\text{country} ==\\text{\"US\" AND }\\text{group} ==\\text{\"control\"})) = 10.7\\%$\n",
    "\n",
    "$P(\\text{converted} == 1|(\\text{country} ==\\text{\"US\" AND }\\text{group} ==\\text{\"treatment\"})) = 15.8\\%$\n",
    "\n",
    "|             | US          | UK          | CA          |\n",
    "| ----------- | ----------- | ----------- | ----------- |\n",
    "| Control     | 10.7%       |  %          |  %          |\n",
    "| Treatment   | 15.8%       |  %          |  %          |"
   ]
  },
  {
   "cell_type": "code",
   "execution_count": 17,
   "metadata": {},
   "outputs": [
    {
     "name": "stdout",
     "output_type": "stream",
     "text": [
      "0.10731404958677686\n",
      "0.1577687626774848\n"
     ]
    }
   ],
   "source": [
    "# Method 1  - explicitly calculate each probability\n",
    "print(df.query('country == \"US\" and group == \"control\" and converted == 1').shape[0]/df.query('country == \"US\" and group == \"control\"').shape[0]) \n",
    "print(df.query('country == \"US\" and group == \"treatment\" and converted == 1').shape[0]/df.query('country == \"US\" and group == \"treatment\"').shape[0])"
   ]
  },
  {
   "cell_type": "code",
   "execution_count": 18,
   "metadata": {},
   "outputs": [
    {
     "data": {
      "text/plain": [
       "group\n",
       "control      0.107314\n",
       "treatment    0.157769\n",
       "Name: converted, dtype: float64"
      ]
     },
     "execution_count": 18,
     "metadata": {},
     "output_type": "execute_result"
    }
   ],
   "source": [
    "# Method 2 - quickly calculate using `groupby`\n",
    "df.query('country == \"US\"').groupby('group')['converted'].mean()"
   ]
  },
  {
   "cell_type": "markdown",
   "metadata": {},
   "source": [
    "##### Solution -- Complete the Table Here\n",
    "\n",
    "|             | US          | UK          | CA          |\n",
    "| ----------- | ----------- | ----------- | ----------- |\n",
    "| Control     | 10.7%       |  10.2%      |  9.4%       |\n",
    "| Treatment   | 15.8%       |  14.9%      |  15.4%      |"
   ]
  },
  {
   "cell_type": "code",
   "execution_count": 19,
   "metadata": {},
   "outputs": [
    {
     "data": {
      "text/plain": [
       "group\n",
       "control      0.101649\n",
       "treatment    0.148698\n",
       "Name: converted, dtype: float64"
      ]
     },
     "execution_count": 19,
     "metadata": {},
     "output_type": "execute_result"
    }
   ],
   "source": [
    "# UK column\n",
    "df.query('country == \"UK\"').groupby('group')['converted'].mean()"
   ]
  },
  {
   "cell_type": "code",
   "execution_count": 20,
   "metadata": {},
   "outputs": [
    {
     "data": {
      "text/plain": [
       "group\n",
       "control      0.094474\n",
       "treatment    0.154017\n",
       "Name: converted, dtype: float64"
      ]
     },
     "execution_count": 20,
     "metadata": {},
     "output_type": "execute_result"
    }
   ],
   "source": [
    "# CA column\n",
    "df.query('country == \"CA\"').groupby('group')['converted'].mean()"
   ]
  },
  {
   "cell_type": "markdown",
   "metadata": {},
   "source": [
    "<a id='experimentation'></a>\n",
    "### Part III - Experimentation\n",
    "\n",
    "`1.` Consider you need to make the decision just based on all the data provided.  If you want to assume that the control page is better unless the treatment page proves to be definitely better at a Type I error rate of 5%, you state your null and alternative hypotheses in terms of **$p_{control}$** and **$p_{treatment}$** as:  \n",
    "\n",
    "$H_{0}: p_{control} >= p_{treatment}$\n",
    "\n",
    "$H_{1}: p_{control} < p_{treatment}$\n",
    "\n",
    "Which is equivalent to:\n",
    "\n",
    "$H_{0}: p_{treatment} - p_{control} <= 0$\n",
    "\n",
    "$H_{1}: p_{treatment} - p_{control} > 0$\n",
    "\n",
    "\n",
    "Where  \n",
    "* **$p_{control}$** is the `converted` rate for the control page\n",
    "* **$p_{treatment}$** is the `converted` rate for the treatment page\n",
    "\n",
    "**Note for this experiment we are not looking at differences associated with country.**"
   ]
  },
  {
   "cell_type": "markdown",
   "metadata": {},
   "source": [
    "Assume under the null hypothesis, $p_{treatment}$ and $p_{control}$ both have \"true\" success rates equal to the **converted** success rate regardless of page - that is $p_{treatment}$ and $p_{control}$ are equal. Furthermore, assume they are equal to the **converted** rate in `df` regardless of the page. **These are set in the first cell below.**<br><br>\n",
    "\n",
    "* Use a sample size for each page equal to the ones in `df`. **These are also set below.**  <br><br>\n",
    "\n",
    "* Perform the sampling distribution for the difference in `converted` between the two pages over 500 iterations of calculating an estimate from the null.  <br><br>\n",
    "\n",
    "* Use the cells below to provide the necessary parts of this simulation.  \n",
    "\n",
    "If this doesn't make complete sense right now, don't worry - you are going to work through the problems below to complete this problem.  You can use **Quiz 4** in the classroom to make sure you are on the right track.<br><br>"
   ]
  },
  {
   "cell_type": "markdown",
   "metadata": {},
   "source": [
    "`a)` The **convert rate** for $p_{treatment}$ under the null.  The **convert rate** for $p_{control}$ under the null. The sample size for the `control` and the sample size for the `treatment` are from the original dataset. **All of these values are set below, and set the stage for the simulations you will run for the rest of this section.**"
   ]
  },
  {
   "cell_type": "code",
   "execution_count": 21,
   "metadata": {},
   "outputs": [
    {
     "name": "stdout",
     "output_type": "stream",
     "text": [
      "0.13047832992316388\n",
      "Sample size of the treatment group: 35211\n",
      "Sample size of the control group: 34678\n"
     ]
    }
   ],
   "source": [
    "p_control_treatment_null  = df['converted'].mean()\n",
    "print(p_control_treatment_null)\n",
    "n_treatment = df.query('group == \"treatment\"').shape[0]\n",
    "print(f'Sample size of the treatment group: {n_treatment}')\n",
    "n_control = df.query('group == \"control\"').shape[0]\n",
    "print(f'Sample size of the control group: {n_control}')"
   ]
  },
  {
   "cell_type": "markdown",
   "metadata": {},
   "source": [
    "`b)` Use the results from part `a)` to simulate `n_treatment` transactions with a convert rate of `p_treatment_null`.  Store these $n_{treatment}$ 1's and 0's in a `list` of **treatment_converted**.  It should look something like the following (the 0's and and 1's **don't** need to be the same): \n",
    "\n",
    "`[0, 0, 1, 1, 0, ....]` "
   ]
  },
  {
   "cell_type": "code",
   "execution_count": 22,
   "metadata": {},
   "outputs": [
    {
     "name": "stdout",
     "output_type": "stream",
     "text": [
      "0.1296469853170884\n",
      "[0 0 0 0 0 0 0 1 1 0]\n"
     ]
    }
   ],
   "source": [
    "treatment_converted = np.random.choice([0,1], size=n_treatment, p=[1-p_control_treatment_null, p_control_treatment_null])\n",
    "print(treatment_converted.mean())\n",
    "print(treatment_converted[:10])"
   ]
  },
  {
   "cell_type": "markdown",
   "metadata": {},
   "source": [
    "`c)` Use the results from part `a)` to simulate `n_control` transactions with a convert rate of `p_control_null`.  Store these $n_{treatment}$ 1's and 0's in a `list` of **control_converted**.  It should look something like the following (the 0's and and 1's **don't** need to be exactly the same): \n",
    "\n",
    "`[0, 0, 1, 1, 0, ....]` "
   ]
  },
  {
   "cell_type": "code",
   "execution_count": 23,
   "metadata": {},
   "outputs": [
    {
     "name": "stdout",
     "output_type": "stream",
     "text": [
      "0.12794855528000462\n",
      "[0 0 0 1 0 0 0 0 1 0]\n"
     ]
    }
   ],
   "source": [
    "control_converted = np.random.choice([0,1], size=n_control, p=[1-p_control_treatment_null, p_control_treatment_null])\n",
    "print(control_converted.mean())\n",
    "print(control_converted[:10])"
   ]
  },
  {
   "cell_type": "markdown",
   "metadata": {},
   "source": [
    "`d)` Find the estimate for $p_{treatment}$ - $p_{control}$ under the null using the simulated values from part `(b)` and `(c)`."
   ]
  },
  {
   "cell_type": "code",
   "execution_count": 24,
   "metadata": {},
   "outputs": [
    {
     "data": {
      "text/plain": [
       "0.0016984300370837813"
      ]
     },
     "execution_count": 24,
     "metadata": {},
     "output_type": "execute_result"
    }
   ],
   "source": [
    "treatment_converted.mean() - control_converted.mean()"
   ]
  },
  {
   "cell_type": "markdown",
   "metadata": {},
   "source": [
    "`e)` Simulate 500 $p_{treatment}$ - $p_{control}$ values using this same process as `b)`- `d)` similarly to the one you calculated in parts **a. through g.** above.  Store all 500 values in an numpy array called **p_diffs**.  This array should look similar to the below **(the values will not match AND this will likely take a bit of time to run)**:\n",
    "\n",
    "`[0.001, -0.003, 0.002, ...]`"
   ]
  },
  {
   "cell_type": "code",
   "execution_count": 25,
   "metadata": {},
   "outputs": [
    {
     "data": {
      "text/plain": [
       "array([ 0.00196677, -0.0040532 ,  0.0014673 , -0.00219412, -0.0019359 ,\n",
       "        0.00101947,  0.00260901,  0.00102255, -0.00242086, -0.0002703 ])"
      ]
     },
     "execution_count": 25,
     "metadata": {},
     "output_type": "execute_result"
    }
   ],
   "source": [
    "p_diffs = []\n",
    "for _ in range(500):\n",
    "    # simulate the treatment and control converted arrays\n",
    "    treatment_converted = np.random.choice([0,1], size=n_treatment, \n",
    "                                           p=[1-p_control_treatment_null, p_control_treatment_null])\n",
    "    control_converted = np.random.choice([0,1], size=n_control, \n",
    "                                         p=[1-p_control_treatment_null, p_control_treatment_null])\n",
    "    # calculate p_treatment and p_control under the null\n",
    "    p_treatment_null = treatment_converted.mean()\n",
    "    p_control_null = control_converted.mean()\n",
    "    # calculate the difference between p_treatment_null and p_control_null\n",
    "    p_diff = p_treatment_null - p_control_null\n",
    "    # add p_diff to the p_diffs array\n",
    "    p_diffs.append(p_diff)\n",
    "    \n",
    "p_diffs = np.array(p_diffs)\n",
    "p_diffs[:10]"
   ]
  },
  {
   "cell_type": "markdown",
   "metadata": {},
   "source": [
    "`f)` Plot a histogram of the **p_diffs**.  Does this plot look like what you expected?  Use the matching problem in the classroom to assure you fully understand what was computed here."
   ]
  },
  {
   "cell_type": "code",
   "execution_count": 26,
   "metadata": {},
   "outputs": [
    {
     "data": {
      "text/plain": [
       "0.050066728877864425"
      ]
     },
     "execution_count": 26,
     "metadata": {},
     "output_type": "execute_result"
    }
   ],
   "source": [
    "obs_diff = df.query('group == \"treatment\"')['converted'].mean() - df.query('group == \"control\"')['converted'].mean()\n",
    "obs_diff"
   ]
  },
  {
   "cell_type": "code",
   "execution_count": 27,
   "metadata": {},
   "outputs": [
    {
     "data": {
      "text/plain": [
       "<matplotlib.lines.Line2D at 0x7fc844ca58a0>"
      ]
     },
     "execution_count": 27,
     "metadata": {},
     "output_type": "execute_result"
    },
    {
     "data": {
      "image/png": "[encoded data removed]",
      "text/plain": [
       "<Figure size 640x480 with 1 Axes>"
      ]
     },
     "metadata": {},
     "output_type": "display_data"
    }
   ],
   "source": [
    "p_diffs = pd.Series(p_diffs)\n",
    "p_diffs.hist(bins=20)\n",
    "plt.axvline(x=obs_diff, color='red')"
   ]
  },
  {
   "cell_type": "markdown",
   "metadata": {},
   "source": [
    "`g)` What proportion of the **p_diffs** are greater than the difference observed between `treatment` and `control` in `df`?"
   ]
  },
  {
   "cell_type": "code",
   "execution_count": 28,
   "metadata": {},
   "outputs": [
    {
     "data": {
      "text/plain": [
       "0.0"
      ]
     },
     "execution_count": 28,
     "metadata": {},
     "output_type": "execute_result"
    }
   ],
   "source": [
    "(p_diffs > obs_diff).mean()"
   ]
  },
  {
   "cell_type": "markdown",
   "metadata": {},
   "source": [
    "`h)` In words, explain what you just computed in part `g)`  What is this value called in scientific studies?  What does this value mean in terms of whether or not there is a difference between the new and old pages using our Type I error rate of 0.05?"
   ]
  },
  {
   "cell_type": "markdown",
   "metadata": {},
   "source": [
    "**Your Answer Here**\n",
    "\n",
    "In part `g)` the p-value was calculated. This value is 0.0 and thus smaller than 0.05 - the preset alpha or Type I error rate. This means that the probability to observe a difference between the new and old pages greater than 0.05 in the data is 0.0 given the null hypothesis is true. Thus, the null hypothesis can be rejected because we have evidence that the treatment page has better conversion."
   ]
  },
  {
   "cell_type": "markdown",
   "metadata": {},
   "source": [
    "<a id='algorithms'></a>\n",
    "### Part IV - Algorithms\n",
    "\n",
    "`1.` In this final part, you will see that the result you acheived in the previous A/B test can also be acheived by performing regression.  All the code needed for the modeling and results of the modeling for sections `b) - f)` have been completed for you. \n",
    "\n",
    "**You will need to complete sections `a)` and `g)`.**  \n",
    "\n",
    "**Then use the code from `1.` to assist with the question `2.`   You should be able to modify the code to assist in answering each of question 2's parts.**<br><br>\n",
    "\n",
    "`a)` Since each row is either a conversion or no conversion, what type of regression should you be performing in this case?"
   ]
  },
  {
   "cell_type": "markdown",
   "metadata": {},
   "source": [
    "**Answer**:\n",
    "Logistic Regression"
   ]
  },
  {
   "cell_type": "markdown",
   "metadata": {},
   "source": [
    "The goal is to use **statsmodels** to fit the regression model you specified in part `a)` to see if there is a significant difference in conversion based on which page a customer receives.  \n",
    "\n",
    "`b)` However, you first need to create a column for the intercept, and create a dummy variable column for which page each user received.  Add an **intercept** column, as well as an **ab_page** column, which is 1 when an individual receives the **treatment** and 0 if **control**.\n",
    "\n",
    "It may be helpful to look at the [get_dummies documentation](https://pandas.pydata.org/docs/reference/api/pandas.get_dummies.html) to encode the `ab_page` column.\n",
    "\n",
    "Below you can see an example of the new columns that will need to be added (The order of columns is not important.): **This question is completed for you**\n",
    "\n",
    "##### Example DataFrame\n",
    "| intercept   | group       | ab_page     | converted   |\n",
    "| ----------- | ----------- | ----------- | ----------- |\n",
    "| 1           |  control    |  0          |  0          |\n",
    "| 1           |  treatment  |  1          |  0          |\n",
    "| 1           |  treatment  |  1          |  0          |\n",
    "| 1           |  control    |  0          |  0          |\n",
    "| 1           |  treatment  |  1          |  1          |\n",
    "| 1           |  treatment  |  1          |  1          |\n",
    "| 1           |  treatment  |  1          |  0          |\n",
    "| 1           |  control    |  0          |  1          |"
   ]
  },
  {
   "cell_type": "code",
   "execution_count": 29,
   "metadata": {},
   "outputs": [
    {
     "data": {
      "text/html": [
       "<div>\n",
       "<style scoped>\n",
       "    .dataframe tbody tr th:only-of-type {\n",
       "        vertical-align: middle;\n",
       "    }\n",
       "\n",
       "    .dataframe tbody tr th {\n",
       "        vertical-align: top;\n",
       "    }\n",
       "\n",
       "    .dataframe thead th {\n",
       "        text-align: right;\n",
       "    }\n",
       "</style>\n",
       "<table border=\"1\" class=\"dataframe\">\n",
       "  <thead>\n",
       "    <tr style=\"text-align: right;\">\n",
       "      <th></th>\n",
       "      <th>country</th>\n",
       "      <th>group</th>\n",
       "      <th>converted</th>\n",
       "      <th>intercept</th>\n",
       "      <th>ab_page</th>\n",
       "    </tr>\n",
       "  </thead>\n",
       "  <tbody>\n",
       "    <tr>\n",
       "      <th>0</th>\n",
       "      <td>UK</td>\n",
       "      <td>control</td>\n",
       "      <td>0</td>\n",
       "      <td>1</td>\n",
       "      <td>0</td>\n",
       "    </tr>\n",
       "    <tr>\n",
       "      <th>1</th>\n",
       "      <td>US</td>\n",
       "      <td>treatment</td>\n",
       "      <td>1</td>\n",
       "      <td>1</td>\n",
       "      <td>1</td>\n",
       "    </tr>\n",
       "    <tr>\n",
       "      <th>2</th>\n",
       "      <td>UK</td>\n",
       "      <td>treatment</td>\n",
       "      <td>0</td>\n",
       "      <td>1</td>\n",
       "      <td>1</td>\n",
       "    </tr>\n",
       "    <tr>\n",
       "      <th>3</th>\n",
       "      <td>UK</td>\n",
       "      <td>control</td>\n",
       "      <td>0</td>\n",
       "      <td>1</td>\n",
       "      <td>0</td>\n",
       "    </tr>\n",
       "    <tr>\n",
       "      <th>4</th>\n",
       "      <td>UK</td>\n",
       "      <td>treatment</td>\n",
       "      <td>0</td>\n",
       "      <td>1</td>\n",
       "      <td>1</td>\n",
       "    </tr>\n",
       "  </tbody>\n",
       "</table>\n",
       "</div>"
      ],
      "text/plain": [
       "  country      group  converted  intercept  ab_page\n",
       "0      UK    control          0          1        0\n",
       "1      US  treatment          1          1        1\n",
       "2      UK  treatment          0          1        1\n",
       "3      UK    control          0          1        0\n",
       "4      UK  treatment          0          1        1"
      ]
     },
     "execution_count": 29,
     "metadata": {},
     "output_type": "execute_result"
    }
   ],
   "source": [
    "df['intercept'] = 1\n",
    "df['ab_page'] = pd.get_dummies(df['group'])['treatment']\n",
    "df.head()"
   ]
  },
  {
   "cell_type": "markdown",
   "metadata": {},
   "source": [
    "`c)`  Create your `X` matrix and `y` response column that will be passed to your model, where you are testing if there is a difference in `treatment` vs. `control`. **This question is completed for you**"
   ]
  },
  {
   "cell_type": "code",
   "execution_count": 30,
   "metadata": {},
   "outputs": [],
   "source": [
    "X = df[['intercept', 'ab_page']]\n",
    "y = df['converted']"
   ]
  },
  {
   "cell_type": "markdown",
   "metadata": {},
   "source": [
    "`d)` Use **statsmodels** to import and fit your regression model on the `X` and `y` from part `c)`. \n",
    "\n",
    "You can find the [statsmodels documentation to assist with this exercise here](https://www.statsmodels.org/stable/discretemod.html).  **This question is completed for you**"
   ]
  },
  {
   "cell_type": "code",
   "execution_count": 31,
   "metadata": {},
   "outputs": [
    {
     "name": "stdout",
     "output_type": "stream",
     "text": [
      "Optimization terminated successfully.\n",
      "         Current function value: 0.384516\n",
      "         Iterations 6\n"
     ]
    }
   ],
   "source": [
    "import statsmodels.api as sm\n",
    "\n",
    "# Logit Model\n",
    "logit_mod = sm.Logit(y, X)\n",
    "logit_res = logit_mod.fit()"
   ]
  },
  {
   "cell_type": "markdown",
   "metadata": {},
   "source": [
    "`e)` Provide the summary of your model below. **This question is completed for you**"
   ]
  },
  {
   "cell_type": "code",
   "execution_count": 32,
   "metadata": {},
   "outputs": [
    {
     "name": "stdout",
     "output_type": "stream",
     "text": [
      "                           Logit Regression Results                           \n",
      "==============================================================================\n",
      "Dep. Variable:              converted   No. Observations:                69889\n",
      "Model:                          Logit   Df Residuals:                    69887\n",
      "Method:                           MLE   Df Model:                            1\n",
      "Date:                Wed, 27 Dec 2023   Pseudo R-squ.:                0.007175\n",
      "Time:                        15:21:46   Log-Likelihood:                -26873.\n",
      "converged:                       True   LL-Null:                       -27068.\n",
      "Covariance Type:            nonrobust   LLR p-value:                 1.810e-86\n",
      "==============================================================================\n",
      "                 coef    std err          z      P>|z|      [0.025      0.975]\n",
      "------------------------------------------------------------------------------\n",
      "intercept     -2.1402      0.017   -122.305      0.000      -2.174      -2.106\n",
      "ab_page        0.4467      0.023     19.539      0.000       0.402       0.492\n",
      "==============================================================================\n"
     ]
    }
   ],
   "source": [
    "print(logit_res.summary())"
   ]
  },
  {
   "cell_type": "markdown",
   "metadata": {},
   "source": [
    "`f)` What is the p-value associated with **ab_page**? Does it lead you to the same conclusion you drew in the **Experiment** section."
   ]
  },
  {
   "cell_type": "markdown",
   "metadata": {},
   "source": [
    "**Answer**: The `p-value` associated with **ab_page** is 0, which means the **ab_page** is statistically significant regarding a users's conversion rate, which leads to the same conclusion as in the **Experiment** section."
   ]
  },
  {
   "cell_type": "markdown",
   "metadata": {},
   "source": [
    "`2. a)` Now you will want to create two new columns as dummy variables for `US` and `UK`.  Again, use `get_dummies` to add these columns.  The dataframe you create should include at least the following columns (If both columns for `US` and `UK` are `0` this represents `CA`.  The order of rows and columns is not important for you to match - it is just to illustrate how columns should connect to one another.):\n",
    "\n",
    "##### Example DataFrame\n",
    "| intercept   | group       | ab_page     | converted   | country     |  US         | UK          |\n",
    "| ----------- | ----------- | ----------- | ----------- | ----------- | ----------- | ----------- |\n",
    "| 1           |  control    |  0          |  0          |  US         |  1          |  0          |\n",
    "| 1           |  treatment  |  1          |  0          |  UK         |  0          |  1          |\n",
    "| 1           |  treatment  |  1          |  0          |  US         |  1          |  0          |\n",
    "| 1           |  control    |  0          |  0          |  US         |  1          |  0          |\n",
    "| 1           |  treatment  |  1          |  1          |  CA         |  0          |  0          |\n",
    "| 1           |  treatment  |  1          |  1          |  UK         |  0          |  1          |\n",
    "| 1           |  treatment  |  1          |  0          |  US         |  1          |  0          |\n",
    "| 1           |  control    |  0          |  1          |  US         |  1          |  0          |"
   ]
  },
  {
   "cell_type": "code",
   "execution_count": 33,
   "metadata": {},
   "outputs": [
    {
     "data": {
      "text/html": [
       "<div>\n",
       "<style scoped>\n",
       "    .dataframe tbody tr th:only-of-type {\n",
       "        vertical-align: middle;\n",
       "    }\n",
       "\n",
       "    .dataframe tbody tr th {\n",
       "        vertical-align: top;\n",
       "    }\n",
       "\n",
       "    .dataframe thead th {\n",
       "        text-align: right;\n",
       "    }\n",
       "</style>\n",
       "<table border=\"1\" class=\"dataframe\">\n",
       "  <thead>\n",
       "    <tr style=\"text-align: right;\">\n",
       "      <th></th>\n",
       "      <th>country</th>\n",
       "      <th>group</th>\n",
       "      <th>converted</th>\n",
       "      <th>intercept</th>\n",
       "      <th>ab_page</th>\n",
       "      <th>US</th>\n",
       "      <th>UK</th>\n",
       "    </tr>\n",
       "  </thead>\n",
       "  <tbody>\n",
       "    <tr>\n",
       "      <th>0</th>\n",
       "      <td>UK</td>\n",
       "      <td>control</td>\n",
       "      <td>0</td>\n",
       "      <td>1</td>\n",
       "      <td>0</td>\n",
       "      <td>0</td>\n",
       "      <td>1</td>\n",
       "    </tr>\n",
       "    <tr>\n",
       "      <th>1</th>\n",
       "      <td>US</td>\n",
       "      <td>treatment</td>\n",
       "      <td>1</td>\n",
       "      <td>1</td>\n",
       "      <td>1</td>\n",
       "      <td>1</td>\n",
       "      <td>0</td>\n",
       "    </tr>\n",
       "    <tr>\n",
       "      <th>2</th>\n",
       "      <td>UK</td>\n",
       "      <td>treatment</td>\n",
       "      <td>0</td>\n",
       "      <td>1</td>\n",
       "      <td>1</td>\n",
       "      <td>0</td>\n",
       "      <td>1</td>\n",
       "    </tr>\n",
       "    <tr>\n",
       "      <th>3</th>\n",
       "      <td>UK</td>\n",
       "      <td>control</td>\n",
       "      <td>0</td>\n",
       "      <td>1</td>\n",
       "      <td>0</td>\n",
       "      <td>0</td>\n",
       "      <td>1</td>\n",
       "    </tr>\n",
       "    <tr>\n",
       "      <th>4</th>\n",
       "      <td>UK</td>\n",
       "      <td>treatment</td>\n",
       "      <td>0</td>\n",
       "      <td>1</td>\n",
       "      <td>1</td>\n",
       "      <td>0</td>\n",
       "      <td>1</td>\n",
       "    </tr>\n",
       "  </tbody>\n",
       "</table>\n",
       "</div>"
      ],
      "text/plain": [
       "  country      group  converted  intercept  ab_page  US  UK\n",
       "0      UK    control          0          1        0   0   1\n",
       "1      US  treatment          1          1        1   1   0\n",
       "2      UK  treatment          0          1        1   0   1\n",
       "3      UK    control          0          1        0   0   1\n",
       "4      UK  treatment          0          1        1   0   1"
      ]
     },
     "execution_count": 33,
     "metadata": {},
     "output_type": "execute_result"
    }
   ],
   "source": [
    "### Create the necessary dummy variables\n",
    "country_dummies = pd.get_dummies(df['country'])\n",
    "df['US'] = country_dummies['US']\n",
    "df['UK'] = country_dummies['UK']\n",
    "df.head()"
   ]
  },
  {
   "cell_type": "markdown",
   "metadata": {},
   "source": [
    "`b)`  Create your `X` matrix and `y` response column that will be passed to your model, where you are testing if there is \n",
    "* a difference in `converted` between `treatment` vs. `control`\n",
    "* a difference in `converted` between `US`, `UK`, and `CA`"
   ]
  },
  {
   "cell_type": "code",
   "execution_count": 34,
   "metadata": {},
   "outputs": [],
   "source": [
    "X = df[['intercept', 'US', 'UK']]\n",
    "y = df['converted']"
   ]
  },
  {
   "cell_type": "markdown",
   "metadata": {},
   "source": [
    "`c)` Use **statsmodels** to import and fit your regression model on the `X` and `y` from part `b)`. \n",
    "You can find the [statsmodels documentation to assist with this exercise here](https://www.statsmodels.org/stable/discretemod.html)."
   ]
  },
  {
   "cell_type": "code",
   "execution_count": 35,
   "metadata": {},
   "outputs": [
    {
     "name": "stdout",
     "output_type": "stream",
     "text": [
      "Optimization terminated successfully.\n",
      "         Current function value: 0.387241\n",
      "         Iterations 6\n"
     ]
    }
   ],
   "source": [
    "# Logit Model\n",
    "logit_mod = sm.Logit(y, X)\n",
    "logit_res = logit_mod.fit()"
   ]
  },
  {
   "cell_type": "markdown",
   "metadata": {},
   "source": [
    "`d)` Provide the summary of your model below."
   ]
  },
  {
   "cell_type": "code",
   "execution_count": 36,
   "metadata": {},
   "outputs": [
    {
     "name": "stdout",
     "output_type": "stream",
     "text": [
      "                           Logit Regression Results                           \n",
      "==============================================================================\n",
      "Dep. Variable:              converted   No. Observations:                69889\n",
      "Model:                          Logit   Df Residuals:                    69886\n",
      "Method:                           MLE   Df Model:                            2\n",
      "Date:                Wed, 27 Dec 2023   Pseudo R-squ.:               0.0001402\n",
      "Time:                        15:21:46   Log-Likelihood:                -27064.\n",
      "converged:                       True   LL-Null:                       -27068.\n",
      "Covariance Type:            nonrobust   LLR p-value:                   0.02250\n",
      "==============================================================================\n",
      "                 coef    std err          z      P>|z|      [0.025      0.975]\n",
      "------------------------------------------------------------------------------\n",
      "intercept     -1.9433      0.051    -37.994      0.000      -2.044      -1.843\n",
      "US             0.0666      0.053      1.261      0.207      -0.037       0.170\n",
      "UK            -0.0015      0.056     -0.027      0.978      -0.111       0.108\n",
      "==============================================================================\n"
     ]
    }
   ],
   "source": [
    "print(logit_res.summary())"
   ]
  },
  {
   "cell_type": "markdown",
   "metadata": {},
   "source": [
    "`e)` What do the `p-values` associated with `US` and `UK` suggest in relation to how they impact `converted`? "
   ]
  },
  {
   "cell_type": "markdown",
   "metadata": {},
   "source": [
    "**Answer**: Regarding the preset `alpha` of `0.05` (see Part III.h) you can see that both `p-values` associated with `US` and `UK`, respectively, are above this level which means, they are not statistically significant with respect to how they impact `converted`."
   ]
  },
  {
   "cell_type": "markdown",
   "metadata": {},
   "source": [
    "<a id='finalcheck'></a>\n",
    "## Final Check!\n",
    "\n",
    "Congratulations!  You have reached the end of the A/B Test Results project!  You should be very proud of all you have accomplished!\n",
    "\n",
    "## Submission\n",
    "\n",
    "Please follow the directions in the classroom to submit this notebook, as well as your completed slides."
   ]
  },
  {
   "cell_type": "code",
   "execution_count": null,
   "metadata": {},
   "outputs": [],
   "source": []
  }
 ],
 "metadata": {
  "kernelspec": {
   "display_name": "statdataanalyis",
   "language": "python",
   "name": "statdataanalysis"
  },
  "language_info": {
   "codemirror_mode": {
    "name": "ipython",
    "version": 3
   },
   "file_extension": ".py",
   "mimetype": "text/x-python",
   "name": "python",
   "nbconvert_exporter": "python",
   "pygments_lexer": "ipython3",
   "version": "3.10.10"
  },
  "vscode": {
   "interpreter": {
    "hash": "b34053042c33de92a8f6946323cebca57e40086129f2774c267076f4fb825384"
   }
  }
 },
 "nbformat": 4,
 "nbformat_minor": 2
}
